{
 "cells": [
  {
   "cell_type": "markdown",
   "id": "05c3928c",
   "metadata": {},
   "source": [
    "# Example of submitting a batch run using SKR Web Python API "
   ]
  },
  {
   "cell_type": "code",
   "execution_count": 1,
   "id": "9e477e98",
   "metadata": {},
   "outputs": [],
   "source": [
    "import os\n",
    "from skr_web_api import Submission"
   ]
  },
  {
   "cell_type": "markdown",
   "id": "ac5ec434",
   "metadata": {},
   "source": [
    "The program below expects user's email to be in the environment variable \"EMAIL\" and the UTS API key to be in the variable \"UTS_API_KEY\".   The program then sets the name of filename to \"input.txt\" with content of the file supplied by the parameter \"inputtext\".   If parameter inputtext is not supplied then the API attempts to open the file inputfilename.   The program then submits the job to the SKR service."
   ]
  },
  {
   "cell_type": "code",
   "execution_count": 2,
   "id": "df5fb3b1",
   "metadata": {},
   "outputs": [],
   "source": [
    "email = os.environ['EMAIL']\n",
    "apikey = os.environ['UTS_API_KEY']\n",
    "inputfilename = 'input.txt'\n",
    "inst = Submission(email, apikey)\n",
    "inst.init_generic_batch(\"metamap -N\", \"\")\n",
    "inst.set_batch_file(inputfilename, inputtext=\"A spinal tap was performed and oligoclonal bands were \\\n",
    "detected in the cerebrospinal fluid.\\n\")\n",
    "response = inst.submit()"
   ]
  },
  {
   "cell_type": "markdown",
   "id": "395a2525",
   "metadata": {},
   "source": [
    "When the response is returned the following displays the response code:"
   ]
  },
  {
   "cell_type": "code",
   "execution_count": 3,
   "id": "804f8dd4",
   "metadata": {},
   "outputs": [
    {
     "data": {
      "text/plain": [
       "200"
      ]
     },
     "execution_count": 3,
     "metadata": {},
     "output_type": "execute_result"
    }
   ],
   "source": [
    "response.status_code"
   ]
  },
  {
   "cell_type": "markdown",
   "id": "37b16e5c",
   "metadata": {},
   "source": [
    "If the response status code is 200, then the returned data is supplied in the content attribute of the response:"
   ]
  },
  {
   "cell_type": "code",
   "execution_count": 4,
   "id": "a04b9ee8",
   "metadata": {},
   "outputs": [
    {
     "name": "stdout",
     "output_type": "stream",
     "text": [
      "text_000N_67799|MMI|5.18|Diagnostic lumbar puncture|C0553794|[diap]|[\"Spinal Tap\"-tx-1-\"spinal tap\"-noun-0]|TX|2/10|\n",
      "text_000N_67799|MMI|5.18|Oligoclonal Bands|C4048246|[lbtr]|[\"Oligoclonal Bands\"-tx-1-\"oligoclonal bands\"-noun-0]|TX|31/17|\n",
      "text_000N_67799|MMI|5.18|Oligoclonal Bands (protein)|C0069426|[aapp,imft]|[\"Oligoclonal Bands\"-tx-1-\"oligoclonal bands\"-noun-0]|TX|31/17|\n",
      "text_000N_67799|MMI|5.18|Performed|C0884358|[ftcn]|[\"Performed\"-tx-1-\"performed\"-verb-0]|TX|17/9|\n",
      "text_000N_67799|MMI|5.18|Spinal Puncture|C0037943|[hlca]|[\"Spinal Tap\"-tx-1-\"spinal tap\"-noun-0]|TX|2/10|\n",
      "text_000N_67799|MMI|3.61|Cerebrospinal Fluid|C0007806|[bdsu]|[\"CEREBROSPINAL FLUID\"-tx-1-\"cerebrospinal fluid\"-noun-0]|TX|70/19|\n",
      "text_000N_67799|MMI|3.61|In Cerebrospinal Fluid|C0007807|[ftcn]|[\"cerebrospinal fluid\"-tx-1-\"cerebrospinal fluid\"-noun-0]|TX|70/19|\n",
      "text_000N_67799|MMI|3.56|Detected Finding|C0442726|[fndg]|[\"Detected\"-tx-1-\"detected\"-verb-0]|TX|54/8|\n",
      "text_000N_67799|MMI|3.56|Detection|C1511790|[topp]|[\"Detected\"-tx-1-\"detected\"-verb-0]|TX|54/8|\n",
      "\n"
     ]
    }
   ],
   "source": [
    "print(response.content.decode('utf-8').replace('NOT DONE LOOP\\n', ''))"
   ]
  },
  {
   "cell_type": "code",
   "execution_count": null,
   "id": "120d511b",
   "metadata": {},
   "outputs": [],
   "source": []
  }
 ],
 "metadata": {
  "kernelspec": {
   "display_name": "pyston_env",
   "language": "python",
   "name": "pyston_env"
  },
  "language_info": {
   "codemirror_mode": {
    "name": "ipython",
    "version": 3
   },
   "file_extension": ".py",
   "mimetype": "text/x-python",
   "name": "python",
   "nbconvert_exporter": "python",
   "pygments_lexer": "ipython3",
   "version": "3.11.0"
  }
 },
 "nbformat": 4,
 "nbformat_minor": 5
}
