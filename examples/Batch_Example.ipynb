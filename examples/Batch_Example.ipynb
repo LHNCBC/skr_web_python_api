{
 "cells": [
  {
   "cell_type": "code",
   "execution_count": 1,
   "id": "9e477e98",
   "metadata": {},
   "outputs": [],
   "source": [
    "import os\n",
    "from skr_web_api import Submission"
   ]
  },
  {
   "cell_type": "code",
   "execution_count": 2,
   "id": "df5fb3b1",
   "metadata": {},
   "outputs": [],
   "source": [
    "email = os.environ['EMAIL']\n",
    "apikey = os.environ['UTS_API_KEY']\n",
    "inputfilename = 'input.txt'\n",
    "inst = Submission(email, apikey)\n",
    "inst.init_generic_batch(\"metamap -N\", \"\")\n",
    "inst.set_batch_file(inputfilename, inputtext=\"A spinal tap was performed and oligoclonal bands were \\\n",
    "detected in the cerebrospinal fluid.\\n\")\n",
    "response = inst.submit()"
   ]
  },
  {
   "cell_type": "code",
   "execution_count": 3,
   "id": "804f8dd4",
   "metadata": {},
   "outputs": [
    {
     "data": {
      "text/plain": [
       "200"
      ]
     },
     "execution_count": 3,
     "metadata": {},
     "output_type": "execute_result"
    }
   ],
   "source": [
    "response.status_code\n"
   ]
  },
  {
   "cell_type": "code",
   "execution_count": 7,
   "id": "a04b9ee8",
   "metadata": {},
   "outputs": [
    {
     "name": "stdout",
     "output_type": "stream",
     "text": [
      "text_000N_176339|MMI|5.18|Diagnostic lumbar puncture|C0553794|[diap]|[\"Spinal Tap\"-tx-1-\"spinal tap\"-noun-0]|TX|2/10|\n",
      "text_000N_176339|MMI|5.18|Oligoclonal Bands|C4048246|[lbtr]|[\"Oligoclonal Bands\"-tx-1-\"oligoclonal bands\"-noun-0]|TX|31/17|\n",
      "text_000N_176339|MMI|5.18|Oligoclonal Bands (protein)|C0069426|[aapp,imft]|[\"Oligoclonal Bands\"-tx-1-\"oligoclonal bands\"-noun-0]|TX|31/17|\n",
      "text_000N_176339|MMI|5.18|Performed|C0884358|[ftcn]|[\"Performed\"-tx-1-\"performed\"-verb-0]|TX|17/9|\n",
      "text_000N_176339|MMI|5.18|Spinal Puncture|C0037943|[hlca]|[\"Spinal Tap\"-tx-1-\"spinal tap\"-noun-0]|TX|2/10|\n",
      "text_000N_176339|MMI|3.61|Cerebrospinal Fluid|C0007806|[bdsu]|[\"CEREBROSPINAL FLUID\"-tx-1-\"cerebrospinal fluid\"-noun-0]|TX|70/19|\n",
      "text_000N_176339|MMI|3.61|In Cerebrospinal Fluid|C0007807|[ftcn]|[\"cerebrospinal fluid\"-tx-1-\"cerebrospinal fluid\"-noun-0]|TX|70/19|\n",
      "text_000N_176339|MMI|3.56|Detected Finding|C0442726|[fndg]|[\"Detected\"-tx-1-\"detected\"-verb-0]|TX|54/8|\n",
      "text_000N_176339|MMI|3.56|Detection|C1511790|[topp]|[\"Detected\"-tx-1-\"detected\"-verb-0]|TX|54/8|\n",
      "\n"
     ]
    }
   ],
   "source": [
    "print(response.content.decode('utf-8').replace('NOT DONE LOOP\\n', ''))"
   ]
  },
  {
   "cell_type": "code",
   "execution_count": null,
   "id": "120d511b",
   "metadata": {},
   "outputs": [],
   "source": []
  }
 ],
 "metadata": {
  "kernelspec": {
   "display_name": "pyston_env",
   "language": "python",
   "name": "pyston_env"
  },
  "language_info": {
   "codemirror_mode": {
    "name": "ipython",
    "version": 3
   },
   "file_extension": ".py",
   "mimetype": "text/x-python",
   "name": "python",
   "nbconvert_exporter": "python",
   "pygments_lexer": "ipython3",
   "version": "3.11.0"
  }
 },
 "nbformat": 4,
 "nbformat_minor": 5
}
